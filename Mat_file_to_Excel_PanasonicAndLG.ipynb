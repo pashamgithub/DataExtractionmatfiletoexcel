{
 "cells": [
  {
   "cell_type": "code",
   "execution_count": 55,
   "id": "43fb33ca",
   "metadata": {},
   "outputs": [],
   "source": [
    "import pandas as pd\n",
    "import numpy as np\n",
    "import math\n",
    "import csv\n",
    "import matplotlib.pyplot as plt\n",
    "import sympy as smp\n",
    "import re\n",
    "from tqdm import tqdm\n",
    "from scipy.linalg import svd\n",
    "import scipy\n",
    "from scipy.optimize import curve_fit \n",
    "import time\n",
    "import os"
   ]
  },
  {
   "cell_type": "code",
   "execution_count": 56,
   "id": "478b9158",
   "metadata": {},
   "outputs": [],
   "source": [
    "from mat4py import loadmat"
   ]
  },
  {
   "cell_type": "code",
   "execution_count": 57,
   "id": "7c6a4d8a",
   "metadata": {},
   "outputs": [],
   "source": [
    "def avg(volt,curr,delta):\n",
    "    V_avg,I_avg = [],[]\n",
    "    for i in range(len(volt)):\n",
    "        if i <delta:\n",
    "            V_avg.append(volt[i])\n",
    "            I_avg.append(curr[i])\n",
    "        elif i>=delta:\n",
    "            V_avg.append(np.mean(volt[i-delta:i])) \n",
    "            I_avg.append(np.mean(curr[i-delta:i]))\n",
    "    return V_avg,I_avg"
   ]
  },
  {
   "cell_type": "code",
   "execution_count": 4,
   "id": "735adde2",
   "metadata": {},
   "outputs": [],
   "source": [
    "ExcelFiles = r'D:\\ExcelFilesLGData'\n",
    "data_LG = r'E:\\Data_practise\\LG_HG2_Original_Dataset_McMasterUniversity_Jan_2020'\n",
    "if not os.path.isdir(ExcelFiles ):\n",
    "    os.makedirs(ExcelFiles)"
   ]
  },
  {
   "cell_type": "code",
   "execution_count": 74,
   "id": "77949a7d",
   "metadata": {
    "scrolled": true
   },
   "outputs": [
    {
     "name": "stderr",
     "output_type": "stream",
     "text": [
      "100%|███████████████████████████████████████████████████████████████████████████████████| 4/4 [20:07<00:00, 301.77s/it]\n"
     ]
    }
   ],
   "source": [
    "temperature =  [0,10,-10,-20]\n",
    "sheetnamelist = []     # this list is used to name the sheets\n",
    "for temp in tqdm(temperature):\n",
    "    excel_file = pd.ExcelWriter(r'D:\\ExcelFilesLGData\\{}degC.xlsx'.format(temp))\n",
    "    matfiledir = r'C:\\Users\\thiru\\OneDrive\\Desktop\\DATA_DEEPLEARNING\\Panasonic 18650PF Data\\{}degC\\Drive cycles'.format(temp)\n",
    "    fileslist = os.listdir(matfiledir)\n",
    "    for matfiles in fileslist:\n",
    "        matfilepath = os.path.join(matfiledir,matfiles)\n",
    "        matdata = loadmat(matfilepath)['meas']\n",
    "        voltage = [i[0] for i in matdata['Voltage']]\n",
    "        current = [i[0] for i in matdata['Current']]\n",
    "        Ah = [i[0] for i in matdata['Ah']]\n",
    "        max_cap = np.max(np.abs(Ah))\n",
    "        soc = list(map(lambda x: ((max_cap-x)/max_cap)*100,np.abs(Ah)))\n",
    "        CellTemp = [i[0] for i in matdata['Battery_Temp_degC']]\n",
    "        V_avg,I_avg = avg(voltage,current,399)                                     # data avg window size of 399 \n",
    "        DictData = {'voltage':[],'current':[],'V_avg':[],'I_avg':[],'soc':[],'Temp':[]}\n",
    "        DictData['voltage'] = voltage\n",
    "        DictData['current'] = current\n",
    "        DictData['soc'] = soc\n",
    "        DictData['Temp'] = CellTemp\n",
    "        DictData['V_avg']= V_avg\n",
    "        DictData['I_avg']= I_avg\n",
    "        DictDataDf = pd.DataFrame(DictData)\n",
    "        ExcelFilePath = os.path.join(ExcelFiles,'{}degCExcelFiles.xlsx'.format(temp))\n",
    "        name = matfiles.split(' ')[-1].split('.')[0].split('_')[1]\n",
    "\n",
    "        if name in sheetnamelist:\n",
    "            sheetname = '{}_{}'.format(name,sheetnamelist.count(name))\n",
    "            sheetnamelist.append(name)\n",
    "        else:\n",
    "            sheetname = name\n",
    "            sheetnamelist.append(sheetname)\n",
    "        DictDataDf.to_excel(excel_file, sheet_name=sheetname, index=False)\n",
    "    excel_file.save()\n",
    "    excel_file.close()  "
   ]
  }
 ],
 "metadata": {
  "kernelspec": {
   "display_name": "Python 3 (ipykernel)",
   "language": "python",
   "name": "python3"
  },
  "language_info": {
   "codemirror_mode": {
    "name": "ipython",
    "version": 3
   },
   "file_extension": ".py",
   "mimetype": "text/x-python",
   "name": "python",
   "nbconvert_exporter": "python",
   "pygments_lexer": "ipython3",
   "version": "3.9.12"
  }
 },
 "nbformat": 4,
 "nbformat_minor": 5
}
